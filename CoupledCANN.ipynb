{
 "cells": [
  {
   "cell_type": "markdown",
   "id": "e9b630fe-98e0-4aef-8a7a-7392b0d092ce",
   "metadata": {
    "pycharm": {
     "name": "#%% md\n"
    },
    "tags": []
   },
   "source": [
    "## Set up"
   ]
  },
  {
   "cell_type": "code",
   "execution_count": 47,
   "id": "93e4ad69-084b-4e94-a7ee-671aa0506b1f",
   "metadata": {
    "pycharm": {
     "name": "#%%\n"
    }
   },
   "outputs": [],
   "source": [
    "import numpy as np\n",
    "import matplotlib.pyplot as plt"
   ]
  },
  {
   "cell_type": "markdown",
   "id": "0c14493f-60cc-401a-b42c-49db32437364",
   "metadata": {
    "pycharm": {
     "name": "#%% md\n"
    },
    "tags": []
   },
   "source": [
    "## Coupled CANN"
   ]
  },
  {
   "cell_type": "markdown",
   "id": "bc4c9bc4",
   "metadata": {
    "pycharm": {
     "name": "#%% md\n"
    }
   },
   "source": [
    "- [x] dt = 1% tau \n",
    "- [x] Gaussian White Noise: mean = 0, variance = 1\n",
    "- [x] $\\sqrt{dt}$ for dt\n",
    "- [ ] Simultation about Langevin Sampling"
   ]
  },
  {
   "cell_type": "markdown",
   "source": [
    "### Question 2\n",
    "\n",
    "1. How to set Laplacian Matrix?"
   ],
   "metadata": {
    "collapsed": false,
    "pycharm": {
     "name": "#%% md\n"
    }
   }
  },
  {
   "cell_type": "markdown",
   "source": [
    "### Questions 1:\n",
    "\n",
    "##### 1. Poisson Variability\n",
    "\n",
    "- How Poisson Variability is represented by Eq.11 #Questions  \n",
    "\n",
    "##### 2. Fano Factor $F$\n",
    "\n",
    "What is the mean and variance of the Fano Factor\n",
    "Try $\\sigma =a, \\mu = s_m$ , due to “(C) The feedforward input is modeled as continuous approximation of Poisson spikes with Gaussian tuning over the stimulus feature.” ([Zhang et al., 2020, p. 5](zotero://select/library/items/5GZ6Z4HR)) ([pdf](zotero://open-pdf/library/items/KDU4GASG?page=5&annotation=NVNWK6G7))\n",
    "- Just let $F = 1$ due to \"Poisson\"What is the mean and variance of the Fano Factor \n",
    "\n",
    "- Try $\\sigma =a, \\mu = s_m$ , due to “(C) The feedforward input is modeled as continuous approximation of Poisson spikes with Gaussian tuning over the stimulus feature.” ([Zhang et al., 2020, p. 5](zotero://select/library/items/5GZ6Z4HR)) ([pdf](zotero://open-pdf/library/items/KDU4GASG?page=5&annotation=NVNWK6G7))\n",
    "Just let $F = 1$ due to \"Poisson\"\n",
    "\n",
    "Just let $F = 0.5$, this is not important\n",
    "\n",
    "##### 3. $\\textbf{I}_m^\\textrm{f}$, Feedforward input\n",
    "\n",
    "1. “Based on the Gaussian tuning and Poisson variability (Eq. 9), the likelihood of sm given an observed Ifm is also a Gaussian distribution (Fig. 2E), i.e., $p(\\textbf{I}^\\textrm{f}_m|s_m) = p(x_m|s_m) = \\mathcal{N} (x_xm|s_m, \\Lambda^{-1}_m )$ ” (Zhang et al., 2020, p. 4)  \n",
    "\n",
    "\n",
    "2. What's the relationship between $\\textbf{I}_m^\\textrm{f}$ and $x_m$ ?\n",
    "\n",
    "\n",
    "“the probability of observing a particular value of $\\textbf{I}_m^\\textrm{f}$ given $s_m$ ” ([Zhang et al., 2020, p. 4](zotero://select/library/items/5GZ6Z4HR)) ([pdf](zotero://open-pdf/library/items/KDU4GASG?page=4&annotation=PQ8LA5RS))  \n",
    "\t- Eq. 9  \n",
    "$$\n",
    "\t  \\textbf{I}_m^\\textrm{f} \\mid s_m \\sim  \\prod_{j = 1}^N \\textrm{Poisson}[\\lambda_{m, j}(s_m)], \\lambda_{m, j}(s_m) = \\textrm{I}_m^\\textrm{f} \\exp[-(\\theta_j - s_m)/2 a^2]\n",
    "\t  $$ \n",
    "3. What does the symbol $\\sim$ mean? the distribution of?\n",
    "    \n",
    "##### 4. Internal Poisson-like Variability  \n",
    "\n",
    "- How Poisson Variability is represented by Eq.11 \n",
    "    \n",
    "##### 5. Langevin Sampling  \n",
    "\n",
    "- $s^{\\textbf{r}}_{mt}$ in Eq.12 and $s^{\\textbf{r}}_m$ in Eq.14, are they same ? \n",
    "\n",
    "- “DU = diag(U1, U2, · · · , UM ) and Df = diag(If1, If2, · · · , If M ) are diagonal matrices, denoting the peak value of the mean synaptic input, and the mean feedforward input in each network respectively” ([Zhang et al., 2020, p. 6](zotero://select/library/items/5GZ6Z4HR)) ([pdf](zotero://open-pdf/library/items/KDU4GASG?page=6&annotation=JBE6P2DA))  \n",
    "\t- Only can get either peak value or mean value at a instant time\n"
   ],
   "metadata": {
    "collapsed": false,
    "pycharm": {
     "name": "#%% md\n"
    }
   }
  },
  {
   "cell_type": "markdown",
   "source": [
    "### Implementation"
   ],
   "metadata": {
    "collapsed": false,
    "pycharm": {
     "name": "#%% md\n"
    }
   }
  },
  {
   "cell_type": "code",
   "execution_count": 189,
   "outputs": [],
   "source": [
    "class CoupledCANN:\n",
    "    theta_min = -180\n",
    "    theta_max = 180\n",
    "    stim_width = 360  # width of stimuli. 2pi\n",
    "    M = int(2)  # consider only two-coupled CANNs for now\n",
    "\n",
    "    def __init__(self, tau=1, N=180, a=40, k=5e-4, F=0.5, R=[51, 52], Ip=[1, 1]):\n",
    "        \"\"\" Constructor\n",
    "        :param tau: time constant, defined as 1 ms\n",
    "        :param N: number of neurons in each network\n",
    "        :param k: global inhibition strength\n",
    "        :param F: Fano Factor, set to 0.5\n",
    "        :param R: peak firing rates of each network\n",
    "        :param Ip: peak input rates of each network\n",
    "        \"\"\"\n",
    "        self.tau, self.N, self.a, self.k, self.F, self.R, self.Ip = tau, N, a, k, F, R, Ip\n",
    "        self.s, self.s1, self.s2 = np.zeros(shape=(2, 1)), [], [] # 2 stimuli s_1 and s_2\n",
    "        self.d_theta, self.rau = self.stim_width / self.N, self.N/self.stim_width\n",
    "        # init firing rate (r), synaptic input (u), feedforward input (If)\n",
    "        self.r = self.u = self.If = np.zeros(shape=(self.M, self.N))\n",
    "        # set preferred stimuli for neurons in each network\n",
    "        self.theta = np.tile(((np.arange(0, self.N, 1) + 0.5) * self.d_theta + self.theta_min), (self.M, 1))\n",
    "        self.wrc = 2*np.sqrt(2)*np.power(2*np.pi, 0.25) * np.sqrt(self.k*self.a*self.rau)\n",
    "        self.Uc = self.wrc / (2*np.sqrt(np.pi)*self.k*self.a)\n",
    "        self.Ip=[self.Uc, self.Uc]\n",
    "        self.wf = self.set_wf()  # set wf: the feedforward connection weight, assumed same in different networks\n",
    "        self.wr = self.set_wr()  # set wr: the recurrent connection weight\n",
    "        self.Wf = self.set_Wf()  # set feedforward connection kernel Wf\n",
    "        self.Wr = self.set_Wr()  # set recurrent connection kernel Wr\n",
    "        self.set_input()\n",
    "\n",
    "    def g_theta(self, theta):\n",
    "        \"\"\"Gaussian function for calculating connection matrices\n",
    "        :param theta: stimuli values\n",
    "        \"\"\"\n",
    "        return np.exp(-theta ** 2 / 2 * self.a ** 2) / (np.sqrt(2 * np.pi)*self.a)\n",
    "\n",
    "    def set_wf(self):\n",
    "        \"\"\"Set feedforward connection weight wf\n",
    "        Refer to Eq.17\n",
    "        \"\"\"\n",
    "        return (2 / np.sqrt(3)) ** 3 * self.F\n",
    "\n",
    "    def set_wr(self):\n",
    "        \"\"\"Set recurrent connection matrix\n",
    "        Refer to Eq.17\n",
    "        Refer to Supplement Material\n",
    "        \"\"\"\n",
    "        # wr = np.array([[1, -1], [-1, 1]], dtype=float)  # the L matrix\n",
    "        # for m in range(self.M):\n",
    "        #     for n in range(self.M):\n",
    "        #         up = self.a * self.wf * wr[m][n]\n",
    "        #         down = (np.sqrt(2 * np.pi) * self.rau * self.R[n])\n",
    "        #         wr[m][n] = up / down\n",
    "        return np.array([[self.wrc, 0.5*self.wrc], [0.5*self.wrc, self.wrc]])\n",
    "\n",
    "    def set_Wf(self):\n",
    "        \"\"\"Set feedforward connection kernel\n",
    "        Refer to Eq.7\n",
    "        :return:\n",
    "        \"\"\"\n",
    "        return self.wf * self.g_theta(self.theta)\n",
    "\n",
    "    def set_Wr(self):\n",
    "        \"\"\"Set recurrent connection kernel\n",
    "        Refer to Eq.7\n",
    "        :return Wr (3D array, indexing by Wr[m1][m2][theta])\n",
    "        \"\"\"\n",
    "        Wr = np.zeros(shape=(self.M, self.M, self.N))\n",
    "        for m in range(self.M):\n",
    "            for n in range(self.M):\n",
    "                p = self.wr[m][n] * self.g_theta(self.theta[m])\n",
    "                # print(f'm:{m}, n:{n}, wr[m][n]:{self.wr[m][n]}, G-theta:{self.g_theta(self.theta[m])}, P: {p}')\n",
    "                Wr[m][n] = p\n",
    "        return Wr\n",
    "\n",
    "    def set_input(self, i=[0, 0]):\n",
    "        \"\"\"Set input to I^f_m,\n",
    "        :param i: peak stimuli (heading direction etc.)\n",
    "        \"\"\"\n",
    "        if len(i) != self.M:\n",
    "            raise ValueError(\"Network number not matched\")\n",
    "        for m in range(self.M):\n",
    "            self.If[m] = self.Ip[m] * np.exp((self.theta[m] - i[m]) ** 2 / (2 * self.a ** 2))\n",
    "\n",
    "    def calc_r(self):\n",
    "        \"\"\"\n",
    "        Calculate firing rates r by synaptic input u, refer to Eq.8\n",
    "        :return:\n",
    "        \"\"\"\n",
    "        for m in range(self.M):\n",
    "            self.r[m] = self.u[m] ** 2 / (1 + self.k * self.rau * np.sum(self.u[m] ** 2 * self.d_theta))\n",
    "\n",
    "    def calc_dudt(self, dt):\n",
    "        \"\"\"\n",
    "        Calculate the synaptic input u, refer to Eq.6\n",
    "        square dt for the stochastic part\n",
    "        :param dt: let dt = 1% tau\n",
    "        :return:\n",
    "        \"\"\"\n",
    "        dudt = np.zeros(shape=(self.M, self.N))\n",
    "        for m in range(self.M):\n",
    "            r, f, = np.zeros(shape=(self.N,)), np.convolve(self.Wf[m], self.If[m], \"same\")\n",
    "            # print(f'Wr[m]:{self.Wf[m].shape}, If[m]:{self.If[m].shape} f:{f.shape}')\n",
    "            noise = np.sqrt(self.tau * self.F * self.u[m]) * np.random.default_rng().normal(0, 1, 1)[0]\n",
    "            for n in range(self.M):\n",
    "                r += np.convolve(self.Wr[m][n], self.r[n], \"same\")\n",
    "            dudt[m] = -self.u[m] + self.rau * (r + f)\n",
    "            dudt[m] = dudt[m] * dt + noise * np.sqrt(dt)\n",
    "        return dudt / self.tau\n",
    "\n",
    "    def calc_ds(self):\n",
    "        \"\"\"Langevin Sampling, refer to Eq.12\n",
    "        \"\"\"\n",
    "        x = np.sum(np.multiply(self.r, self.theta), axis=1)\n",
    "        y = np.sum(self.r, axis=1)\n",
    "        s = x / y\n",
    "        return s\n",
    "\n",
    "    def step(self, dt):\n",
    "        self.calc_r()\n",
    "        self.u += self.calc_dudt(dt)\n",
    "        self.s = self.calc_ds()\n",
    "        self.s1.append(self.s[0])\n",
    "        self.s2.append(self.s[1])\n",
    "        return\n",
    "\n",
    "\n",
    "net = CoupledCANN()\n"
   ],
   "metadata": {
    "collapsed": false,
    "pycharm": {
     "name": "#%%\n"
    }
   }
  },
  {
   "cell_type": "markdown",
   "id": "80bf041c-51ee-4bf5-a90b-44dc425e1f63",
   "metadata": {
    "pycharm": {
     "name": "#%% md\n"
    }
   },
   "source": []
  },
  {
   "cell_type": "markdown",
   "id": "46160bb1-75e7-4aed-b35c-3b4240dbb38c",
   "metadata": {
    "pycharm": {
     "name": "#%% md\n"
    }
   },
   "source": []
  },
  {
   "cell_type": "code",
   "execution_count": 195,
   "outputs": [
    {
     "data": {
      "text/plain": "<Figure size 640x480 with 2 Axes>",
      "image/png": "[encoded data removed]"
     },
     "metadata": {},
     "output_type": "display_data"
    }
   ],
   "source": [
    "tau = 1\n",
    "dt = tau/100\n",
    "T = range(int(6 * tau // dt))\n",
    "net = CoupledCANN(tau=tau)\n",
    "\n",
    "for t in T:\n",
    "    net.set_input(i=[-2, 2])\n",
    "    net.step(dt)\n",
    "    # print(net.s)\n",
    "\n",
    "\n",
    "\n",
    "def scatter_hist(x, y, ax, ax_histx, ax_histy):\n",
    "    # no labels\n",
    "    ax_histx.tick_params(axis=\"x\", labelbottom=False)\n",
    "    ax_histy.tick_params(axis=\"y\", labelleft=False)\n",
    "\n",
    "    # the scatter plot:\n",
    "    # ax.scatter(x, y, c=range(len((net.s1))), vmin=0, vmax=len(net.s1))\n",
    "\n",
    "    binwidth = 0.25\n",
    "    xymax = max(np.max(np.abs(x)), np.max(np.abs(y)))\n",
    "    lim = (int(xymax/binwidth) + 1) * binwidth\n",
    "\n",
    "    bins = np.arange(-lim, lim + binwidth, binwidth)\n",
    "    ax_histx.hist(x, bins=bins)\n",
    "    ax_histy.hist(y, bins=bins, orientation='horizontal')\n",
    "\n",
    "x=net.s1[100:]\n",
    "y=net.s2[100:]\n",
    "fig = plt.figure(constrained_layout=True)\n",
    "ax = fig.add_gridspec(top=0.75, right=0.75).subplots()\n",
    "ax.set(aspect=1)\n",
    "ax_histx = ax.inset_axes([0, 1.05, 1, 0.25], sharex=ax)\n",
    "ax_histy = ax.inset_axes([1.05, 0, 0.25, 1], sharey=ax)\n",
    "scatter_hist(net.s1, net.s2, ax, ax_histx, ax_histy)\n",
    "plt.xlabel('$s_1$ decoded from net. 1')\n",
    "plt.ylabel('$s_2$ decoded from net. 2')\n",
    "plt.scatter(x=x, y=y, c=range(len(x)), vmin=0, vmax=len(x))\n",
    "plt.colorbar()\n",
    "plt.xlim(70, 74)\n",
    "plt.ylim(-70, -74)\n",
    "plt.show()"
   ],
   "metadata": {
    "collapsed": false,
    "pycharm": {
     "name": "#%%\n"
    }
   }
  }
 ],
 "metadata": {
  "kernelspec": {
   "display_name": "Python 3 (ipykernel)",
   "language": "python",
   "name": "python3"
  },
  "language_info": {
   "codemirror_mode": {
    "name": "ipython",
    "version": 3
   },
   "file_extension": ".py",
   "mimetype": "text/x-python",
   "name": "python",
   "nbconvert_exporter": "python",
   "pygments_lexer": "ipython3",
   "version": "3.8.13"
  },
  "toc-autonumbering": false,
  "toc-showcode": false,
  "toc-showmarkdowntxt": false,
  "toc-showtags": false
 },
 "nbformat": 4,
 "nbformat_minor": 5
}